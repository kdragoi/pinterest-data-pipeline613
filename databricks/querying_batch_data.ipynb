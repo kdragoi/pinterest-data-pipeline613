{
 "cells": [
  {
   "cell_type": "markdown",
   "metadata": {
    "application/vnd.databricks.v1+cell": {
     "cellMetadata": {},
     "inputWidgets": {},
     "nuid": "52324460-ef2f-4eda-9939-fce793ce8e72",
     "showTitle": false,
     "title": ""
    }
   },
   "source": [
    "## Querying the batch data"
   ]
  },
  {
   "cell_type": "markdown",
   "metadata": {
    "application/vnd.databricks.v1+cell": {
     "cellMetadata": {},
     "inputWidgets": {},
     "nuid": "b147b90f-2abf-42e0-ab55-e6ccdb0289a6",
     "showTitle": false,
     "title": ""
    }
   },
   "source": [
    "The code in this notebook was originally used following the code in the notebook [cleaning_batch_data.ipynb](cleaning_batch_data.ipynb)"
   ]
  },
  {
   "cell_type": "markdown",
   "metadata": {
    "application/vnd.databricks.v1+cell": {
     "cellMetadata": {},
     "inputWidgets": {},
     "nuid": "9b774234-1920-4952-aa24-838176a34cd4",
     "showTitle": false,
     "title": ""
    }
   },
   "source": [
    "### Query 1 - Find the most popular category in each country"
   ]
  },
  {
   "cell_type": "code",
   "execution_count": null,
   "metadata": {
    "application/vnd.databricks.v1+cell": {
     "cellMetadata": {},
     "inputWidgets": {},
     "nuid": "2f58eb3f-9a53-4db5-8f5b-97005465c574",
     "showTitle": false,
     "title": ""
    }
   },
   "outputs": [
    {
     "data": {
      "text/html": [
       "<style scoped>\n",
       "  .ansiout {\n",
       "    display: block;\n",
       "    unicode-bidi: embed;\n",
       "    white-space: pre-wrap;\n",
       "    word-wrap: break-word;\n",
       "    word-break: break-all;\n",
       "    font-family: \"Menlo\", \"Monaco\", \"Consolas\", \"Ubuntu Mono\", \"Source Code Pro\", monospace;\n",
       "    font-size: 13px;\n",
       "    color: #555;\n",
       "    margin-left: 4px;\n",
       "    line-height: 19px;\n",
       "  }\n",
       "</style>\n",
       "<div class=\"ansiout\">+--------------------+--------------+--------------+\n",
       "             country|      category|category_count|\n",
       "+--------------------+--------------+--------------+\n",
       "         Afghanistan|       finance|             7|\n",
       "             Albania|diy-and-crafts|             9|\n",
       "             Algeria|        quotes|            12|\n",
       "      American Samoa|       tattoos|             3|\n",
       "             Andorra|       tattoos|             3|\n",
       "              Angola|       finance|             1|\n",
       "            Anguilla|     education|             2|\n",
       "Antarctica (the t...|     christmas|             2|\n",
       " Antigua and Barbuda|        travel|             6|\n",
       "           Argentina|       tattoos|             5|\n",
       "             Armenia|     christmas|             3|\n",
       "               Aruba|       tattoos|             6|\n",
       "           Australia|  mens-fashion|             2|\n",
       "             Austria|        travel|             1|\n",
       "          Azerbaijan|       finance|             4|\n",
       "             Bahamas|           art|             1|\n",
       "             Bahrain|        quotes|             4|\n",
       "          Bangladesh|     christmas|             3|\n",
       "            Barbados|     christmas|             1|\n",
       "             Belarus|     christmas|             1|\n",
       "+--------------------+--------------+--------------+\n",
       "only showing top 20 rows\n",
       "\n",
       "</div>"
      ]
     },
     "metadata": {
      "application/vnd.databricks.v1+output": {
       "addedWidgets": {},
       "arguments": {},
       "data": "<div class=\"ansiout\">+--------------------+--------------+--------------+\n|             country|      category|category_count|\n+--------------------+--------------+--------------+\n|         Afghanistan|       finance|             7|\n|             Albania|diy-and-crafts|             9|\n|             Algeria|        quotes|            12|\n|      American Samoa|       tattoos|             3|\n|             Andorra|       tattoos|             3|\n|              Angola|       finance|             1|\n|            Anguilla|     education|             2|\n|Antarctica (the t...|     christmas|             2|\n| Antigua and Barbuda|        travel|             6|\n|           Argentina|       tattoos|             5|\n|             Armenia|     christmas|             3|\n|               Aruba|       tattoos|             6|\n|           Australia|  mens-fashion|             2|\n|             Austria|        travel|             1|\n|          Azerbaijan|       finance|             4|\n|             Bahamas|           art|             1|\n|             Bahrain|        quotes|             4|\n|          Bangladesh|     christmas|             3|\n|            Barbados|     christmas|             1|\n|             Belarus|     christmas|             1|\n+--------------------+--------------+--------------+\nonly showing top 20 rows\n\n</div>",
       "datasetInfos": [],
       "metadata": {},
       "removedWidgets": [],
       "type": "html"
      }
     },
     "output_type": "display_data"
    }
   ],
   "source": [
    "# Joins the geo and pin dataframes\n",
    "pin_geo_df = pin_df.join(geo_df, pin_df[\"ind\"] == geo_df[\"ind\"], how=\"inner\")\n",
    "\n",
    "# Creates partition by country and order by category_count descending\n",
    "window = Window.partitionBy(\"country\").orderBy(col(\"category_count\").desc())\n",
    "\n",
    "# Finds the most popular category in each country\n",
    "(pin_geo_df.groupBy(\"country\", \"category\")\n",
    ".agg(count(\"category\").alias(\"category_count\"))\n",
    ".withColumn(\"rank\", row_number().over(window))\n",
    ".filter(col(\"rank\") == 1)\n",
    ".drop(\"rank\")\n",
    ".show())\n"
   ]
  },
  {
   "cell_type": "markdown",
   "metadata": {
    "application/vnd.databricks.v1+cell": {
     "cellMetadata": {},
     "inputWidgets": {},
     "nuid": "9d3f83d2-f41e-4cc1-9767-4be35ab1aa4d",
     "showTitle": false,
     "title": ""
    }
   },
   "source": [
    "### Query 2 - Find which was the most popular category each year between 2018 and 2022"
   ]
  },
  {
   "cell_type": "code",
   "execution_count": null,
   "metadata": {
    "application/vnd.databricks.v1+cell": {
     "cellMetadata": {},
     "inputWidgets": {},
     "nuid": "e749883a-aa62-47b0-9fd7-601517599b4b",
     "showTitle": false,
     "title": ""
    }
   },
   "outputs": [
    {
     "data": {
      "text/html": [
       "<style scoped>\n",
       "  .ansiout {\n",
       "    display: block;\n",
       "    unicode-bidi: embed;\n",
       "    white-space: pre-wrap;\n",
       "    word-wrap: break-word;\n",
       "    word-break: break-all;\n",
       "    font-family: \"Menlo\", \"Monaco\", \"Consolas\", \"Ubuntu Mono\", \"Source Code Pro\", monospace;\n",
       "    font-size: 13px;\n",
       "    color: #555;\n",
       "    margin-left: 4px;\n",
       "    line-height: 19px;\n",
       "  }\n",
       "</style>\n",
       "<div class=\"ansiout\">+---------+--------------+--------------+\n",
       "post_year|      category|category_count|\n",
       "+---------+--------------+--------------+\n",
       "     2018|       tattoos|            18|\n",
       "     2019|       tattoos|            19|\n",
       "     2020|     christmas|            20|\n",
       "     2021|diy-and-crafts|            24|\n",
       "     2022|       finance|            13|\n",
       "+---------+--------------+--------------+\n",
       "\n",
       "</div>"
      ]
     },
     "metadata": {
      "application/vnd.databricks.v1+output": {
       "addedWidgets": {},
       "arguments": {},
       "data": "<div class=\"ansiout\">+---------+--------------+--------------+\n|post_year|      category|category_count|\n+---------+--------------+--------------+\n|     2018|       tattoos|            18|\n|     2019|       tattoos|            19|\n|     2020|     christmas|            20|\n|     2021|diy-and-crafts|            24|\n|     2022|       finance|            13|\n+---------+--------------+--------------+\n\n</div>",
       "datasetInfos": [],
       "metadata": {},
       "removedWidgets": [],
       "type": "html"
      }
     },
     "output_type": "display_data"
    }
   ],
   "source": [
    "# Joins the geo and pin dataframes\n",
    "pin_geo_df = pin_df.join(geo_df, pin_df[\"ind\"] == geo_df[\"ind\"], how=\"inner\")\n",
    "\n",
    "# Creates partition by post_year and order by category_count descending\n",
    "window = Window.partitionBy(\"post_year\").orderBy(col(\"category_count\").desc())\n",
    "\n",
    "# Finds which was the most popular category each year between 2018 and 2022\n",
    "(pin_geo_df.withColumn(\"post_year\", year(\"timestamp\"))\n",
    ".filter((col(\"post_year\") >= 2018) & (col(\"post_year\") <= 2022))\n",
    ".groupBy(\"post_year\", \"category\")\n",
    ".agg(count(\"category\").alias(\"category_count\"))\n",
    ".withColumn(\"rank\", row_number().over(window))\n",
    ".filter(col(\"rank\") == 1)\n",
    ".drop(\"rank\")\n",
    ".orderBy(\"post_year\", \"category_count\")\n",
    ".show())\n"
   ]
  },
  {
   "cell_type": "markdown",
   "metadata": {
    "application/vnd.databricks.v1+cell": {
     "cellMetadata": {},
     "inputWidgets": {},
     "nuid": "55198879-8440-4dd5-a3d5-f3dd78cf8cc6",
     "showTitle": false,
     "title": ""
    }
   },
   "source": [
    "### Query 3 - Find the user with the most followers in each country"
   ]
  },
  {
   "cell_type": "markdown",
   "metadata": {
    "application/vnd.databricks.v1+cell": {
     "cellMetadata": {},
     "inputWidgets": {},
     "nuid": "7d276869-4349-4454-9e79-8b555a452935",
     "showTitle": false,
     "title": ""
    }
   },
   "source": [
    "#### Part 1 - For each country find the user with the most followers"
   ]
  },
  {
   "cell_type": "code",
   "execution_count": null,
   "metadata": {
    "application/vnd.databricks.v1+cell": {
     "cellMetadata": {},
     "inputWidgets": {},
     "nuid": "04228b9a-4d25-48be-afb0-3046a4802d60",
     "showTitle": false,
     "title": ""
    }
   },
   "outputs": [
    {
     "data": {
      "text/html": [
       "<style scoped>\n",
       "  .ansiout {\n",
       "    display: block;\n",
       "    unicode-bidi: embed;\n",
       "    white-space: pre-wrap;\n",
       "    word-wrap: break-word;\n",
       "    word-break: break-all;\n",
       "    font-family: \"Menlo\", \"Monaco\", \"Consolas\", \"Ubuntu Mono\", \"Source Code Pro\", monospace;\n",
       "    font-size: 13px;\n",
       "    color: #555;\n",
       "    margin-left: 4px;\n",
       "    line-height: 19px;\n",
       "  }\n",
       "</style>\n",
       "<div class=\"ansiout\">+--------------------+--------------------+--------------+\n",
       "             country|         poster_name|follower_count|\n",
       "+--------------------+--------------------+--------------+\n",
       "         Afghanistan|                9GAG|       3000000|\n",
       "             Albania|   The Minds Journal|       5000000|\n",
       "             Algeria|   Apartment Therapy|       5000000|\n",
       "      American Samoa|         Mamas Uncut|       8000000|\n",
       "             Andorra|    Our Mindful Life|        190000|\n",
       "              Angola|           Tastemade|       8000000|\n",
       "            Anguilla|        Hometalk.com|       5000000|\n",
       "Antarctica (the t...|            HikenDip|        500000|\n",
       " Antigua and Barbuda|   A Cultivated Nest|        578000|\n",
       "           Argentina|       Who What Wear|       2000000|\n",
       "             Armenia|Michelle {CraftyM...|        891000|\n",
       "               Aruba|       One Kindesign|        657000|\n",
       "           Australia|   Cultura Colectiva|       1000000|\n",
       "             Austria|The World Pursuit...|         89000|\n",
       "          Azerbaijan|           SOCIETY19|       1000000|\n",
       "             Bahamas|          Stylecraze|       2000000|\n",
       "             Bahrain|    Decor Home Ideas|        144000|\n",
       "          Bangladesh|  Smart School House|        673000|\n",
       "            Barbados|The Creativity Ex...|        410000|\n",
       "             Belarus|Prudent Penny Pin...|        647000|\n",
       "+--------------------+--------------------+--------------+\n",
       "only showing top 20 rows\n",
       "\n",
       "</div>"
      ]
     },
     "metadata": {
      "application/vnd.databricks.v1+output": {
       "addedWidgets": {},
       "arguments": {},
       "data": "<div class=\"ansiout\">+--------------------+--------------------+--------------+\n|             country|         poster_name|follower_count|\n+--------------------+--------------------+--------------+\n|         Afghanistan|                9GAG|       3000000|\n|             Albania|   The Minds Journal|       5000000|\n|             Algeria|   Apartment Therapy|       5000000|\n|      American Samoa|         Mamas Uncut|       8000000|\n|             Andorra|    Our Mindful Life|        190000|\n|              Angola|           Tastemade|       8000000|\n|            Anguilla|        Hometalk.com|       5000000|\n|Antarctica (the t...|            HikenDip|        500000|\n| Antigua and Barbuda|   A Cultivated Nest|        578000|\n|           Argentina|       Who What Wear|       2000000|\n|             Armenia|Michelle {CraftyM...|        891000|\n|               Aruba|       One Kindesign|        657000|\n|           Australia|   Cultura Colectiva|       1000000|\n|             Austria|The World Pursuit...|         89000|\n|          Azerbaijan|           SOCIETY19|       1000000|\n|             Bahamas|          Stylecraze|       2000000|\n|             Bahrain|    Decor Home Ideas|        144000|\n|          Bangladesh|  Smart School House|        673000|\n|            Barbados|The Creativity Ex...|        410000|\n|             Belarus|Prudent Penny Pin...|        647000|\n+--------------------+--------------------+--------------+\nonly showing top 20 rows\n\n</div>",
       "datasetInfos": [],
       "metadata": {},
       "removedWidgets": [],
       "type": "html"
      }
     },
     "output_type": "display_data"
    }
   ],
   "source": [
    "# Joins the geo and pin dataframes\n",
    "pin_geo_df = pin_df.join(geo_df, pin_df[\"ind\"] == geo_df[\"ind\"], how=\"inner\")\n",
    "\n",
    "# Creates partition by country and order by follower_count descending\n",
    "window = Window.partitionBy(\"country\").orderBy(col(\"follower_count\").desc())\n",
    "\n",
    "# Finds the user with the most followers in each country\n",
    "max_followers_by_country = (\n",
    "    pin_geo_df.withColumn(\"rank\", row_number().over(window))\n",
    "    .filter(col(\"rank\") == 1)\n",
    "    .select(\"country\", \"poster_name\", \"follower_count\"))\n",
    "\n",
    "max_followers_by_country.show()\n"
   ]
  },
  {
   "cell_type": "markdown",
   "metadata": {
    "application/vnd.databricks.v1+cell": {
     "cellMetadata": {},
     "inputWidgets": {},
     "nuid": "712d796c-bfba-406e-87c8-44b3ff447253",
     "showTitle": false,
     "title": ""
    }
   },
   "source": [
    "#### Part 2 - Based on the above query, find the country with the user with most followers."
   ]
  },
  {
   "cell_type": "code",
   "execution_count": null,
   "metadata": {
    "application/vnd.databricks.v1+cell": {
     "cellMetadata": {},
     "inputWidgets": {},
     "nuid": "2577afd3-0124-4dc1-882c-f262af08989d",
     "showTitle": false,
     "title": ""
    }
   },
   "outputs": [
    {
     "data": {
      "text/html": [
       "<style scoped>\n",
       "  .ansiout {\n",
       "    display: block;\n",
       "    unicode-bidi: embed;\n",
       "    white-space: pre-wrap;\n",
       "    word-wrap: break-word;\n",
       "    word-break: break-all;\n",
       "    font-family: \"Menlo\", \"Monaco\", \"Consolas\", \"Ubuntu Mono\", \"Source Code Pro\", monospace;\n",
       "    font-size: 13px;\n",
       "    color: #555;\n",
       "    margin-left: 4px;\n",
       "    line-height: 19px;\n",
       "  }\n",
       "</style>\n",
       "<div class=\"ansiout\">+--------------+-----------+--------------+\n",
       "       country|poster_name|follower_count|\n",
       "+--------------+-----------+--------------+\n",
       "American Samoa|Mamas Uncut|       8000000|\n",
       "        Angola|  Tastemade|       8000000|\n",
       "+--------------+-----------+--------------+\n",
       "\n",
       "</div>"
      ]
     },
     "metadata": {
      "application/vnd.databricks.v1+output": {
       "addedWidgets": {},
       "arguments": {},
       "data": "<div class=\"ansiout\">+--------------+-----------+--------------+\n|       country|poster_name|follower_count|\n+--------------+-----------+--------------+\n|American Samoa|Mamas Uncut|       8000000|\n|        Angola|  Tastemade|       8000000|\n+--------------+-----------+--------------+\n\n</div>",
       "datasetInfos": [],
       "metadata": {},
       "removedWidgets": [],
       "type": "html"
      }
     },
     "output_type": "display_data"
    }
   ],
   "source": [
    "# Gest the highest number of followers of all countries\n",
    "ultimate_max_followers = max_followers_by_country.select(max(\"follower_count\")).collect()[0][0]\n",
    "\n",
    "# Finds the country with the user with most followers\n",
    "(max_followers_by_country.select(\"*\")\n",
    " .where(col(\"follower_count\") == ultimate_max_followers)\n",
    " .show())\n"
   ]
  },
  {
   "cell_type": "markdown",
   "metadata": {
    "application/vnd.databricks.v1+cell": {
     "cellMetadata": {},
     "inputWidgets": {},
     "nuid": "ed20985c-2725-464e-a245-8dd4508897ec",
     "showTitle": false,
     "title": ""
    }
   },
   "source": [
    "### Query 4 - Find the most popular category in each age group"
   ]
  },
  {
   "cell_type": "code",
   "execution_count": null,
   "metadata": {
    "application/vnd.databricks.v1+cell": {
     "cellMetadata": {},
     "inputWidgets": {},
     "nuid": "117c4d49-7b75-48cb-898d-de3f4be44cdc",
     "showTitle": false,
     "title": ""
    }
   },
   "outputs": [
    {
     "data": {
      "text/html": [
       "<style scoped>\n",
       "  .ansiout {\n",
       "    display: block;\n",
       "    unicode-bidi: embed;\n",
       "    white-space: pre-wrap;\n",
       "    word-wrap: break-word;\n",
       "    word-break: break-all;\n",
       "    font-family: \"Menlo\", \"Monaco\", \"Consolas\", \"Ubuntu Mono\", \"Source Code Pro\", monospace;\n",
       "    font-size: 13px;\n",
       "    color: #555;\n",
       "    margin-left: 4px;\n",
       "    line-height: 19px;\n",
       "  }\n",
       "</style>\n",
       "<div class=\"ansiout\">+---------+---------+--------------+\n",
       "age_group| category|category_count|\n",
       "+---------+---------+--------------+\n",
       "    18-24|  tattoos|            35|\n",
       "    25-35|christmas|            24|\n",
       "    36-50|christmas|            12|\n",
       "      50+|  finance|             8|\n",
       "+---------+---------+--------------+\n",
       "\n",
       "</div>"
      ]
     },
     "metadata": {
      "application/vnd.databricks.v1+output": {
       "addedWidgets": {},
       "arguments": {},
       "data": "<div class=\"ansiout\">+---------+---------+--------------+\n|age_group| category|category_count|\n+---------+---------+--------------+\n|    18-24|  tattoos|            35|\n|    25-35|christmas|            24|\n|    36-50|christmas|            12|\n|      50+|  finance|             8|\n+---------+---------+--------------+\n\n</div>",
       "datasetInfos": [],
       "metadata": {},
       "removedWidgets": [],
       "type": "html"
      }
     },
     "output_type": "display_data"
    }
   ],
   "source": [
    "# Joins the user and pin dataframes\n",
    "pin_user_df = pin_df.join(user_df, pin_df[\"ind\"] == user_df[\"ind\"], how=\"inner\")\n",
    "\n",
    "# Creates the age_group column\n",
    "pin_user_df_with_age = pin_user_df.withColumn(\"age_group\",\n",
    "    when(col(\"age\").between(18, 24), \"18-24\")\n",
    "    .when(col(\"age\").between(25, 35), \"25-35\")\n",
    "    .when(col(\"age\").between(36, 50), \"36-50\")\n",
    "    .otherwise(\"50+\"))\n",
    "\n",
    "\n",
    "# Creates partition by age_group and order by category_count descending\n",
    "window = Window.partitionBy(\"age_group\").orderBy(col(\"category_count\").desc())\n",
    "\n",
    "# Finds the most popular category in each age group\n",
    "(pin_user_df_with_age.groupBy(\"age_group\", \"category\")\n",
    ".agg(count(\"category\").alias(\"category_count\"))\n",
    ".withColumn(\"rank\", row_number().over(window))\n",
    ".filter(col(\"rank\") == 1)\n",
    ".drop(\"rank\")\n",
    ".show())\n"
   ]
  },
  {
   "cell_type": "markdown",
   "metadata": {
    "application/vnd.databricks.v1+cell": {
     "cellMetadata": {},
     "inputWidgets": {},
     "nuid": "b19c5387-0f00-4295-ad85-66b730cc0d4e",
     "showTitle": false,
     "title": ""
    }
   },
   "source": [
    "### Query 5 - Find the median follower count of users in each age group"
   ]
  },
  {
   "cell_type": "code",
   "execution_count": null,
   "metadata": {
    "application/vnd.databricks.v1+cell": {
     "cellMetadata": {},
     "inputWidgets": {},
     "nuid": "b83ece3b-829f-463c-ad80-8e1d91e8e25f",
     "showTitle": false,
     "title": ""
    }
   },
   "outputs": [
    {
     "data": {
      "text/html": [
       "<style scoped>\n",
       "  .ansiout {\n",
       "    display: block;\n",
       "    unicode-bidi: embed;\n",
       "    white-space: pre-wrap;\n",
       "    word-wrap: break-word;\n",
       "    word-break: break-all;\n",
       "    font-family: \"Menlo\", \"Monaco\", \"Consolas\", \"Ubuntu Mono\", \"Source Code Pro\", monospace;\n",
       "    font-size: 13px;\n",
       "    color: #555;\n",
       "    margin-left: 4px;\n",
       "    line-height: 19px;\n",
       "  }\n",
       "</style>\n",
       "<div class=\"ansiout\">+---------+---------------------+\n",
       "age_group|median_follower_count|\n",
       "+---------+---------------------+\n",
       "    18-24|               226000|\n",
       "    25-35|                18000|\n",
       "    36-50|                19000|\n",
       "      50+|                 5000|\n",
       "+---------+---------------------+\n",
       "\n",
       "</div>"
      ]
     },
     "metadata": {
      "application/vnd.databricks.v1+output": {
       "addedWidgets": {},
       "arguments": {},
       "data": "<div class=\"ansiout\">+---------+---------------------+\n|age_group|median_follower_count|\n+---------+---------------------+\n|    18-24|               226000|\n|    25-35|                18000|\n|    36-50|                19000|\n|      50+|                 5000|\n+---------+---------------------+\n\n</div>",
       "datasetInfos": [],
       "metadata": {},
       "removedWidgets": [],
       "type": "html"
      }
     },
     "output_type": "display_data"
    }
   ],
   "source": [
    "# Joins the user and pin dataframes\n",
    "pin_user_df = pin_df.join(user_df, pin_df[\"ind\"] == user_df[\"ind\"], how=\"inner\")\n",
    "\n",
    "\n",
    "# Creates the age_group column\n",
    "pin_user_df_with_age = pin_user_df.withColumn(\"age_group\",\n",
    "    when(col(\"age\").between(18, 24), \"18-24\")\n",
    "    .when(col(\"age\").between(25, 35), \"25-35\")\n",
    "    .when(col(\"age\").between(36, 50), \"36-50\")\n",
    "    .otherwise(\"50+\"))\n",
    "\n",
    "\n",
    "# Finds the median follower count of users in each age group\n",
    "(pin_user_df_with_age.groupBy(\"age_group\")\n",
    ".agg(percentile_approx(\"follower_count\", 0.5).alias(\"median_follower_count\"))\n",
    ".orderBy(\"age_group\")\n",
    ".show())\n"
   ]
  },
  {
   "cell_type": "markdown",
   "metadata": {
    "application/vnd.databricks.v1+cell": {
     "cellMetadata": {},
     "inputWidgets": {},
     "nuid": "b7a066ba-5cc9-46d3-9a39-489790eac467",
     "showTitle": false,
     "title": ""
    }
   },
   "source": [
    "### Query 6 - Find how many users have joined between 2015 and 2020"
   ]
  },
  {
   "cell_type": "code",
   "execution_count": null,
   "metadata": {
    "application/vnd.databricks.v1+cell": {
     "cellMetadata": {},
     "inputWidgets": {},
     "nuid": "56c81dca-569a-46e1-b1e1-c27cd465acda",
     "showTitle": false,
     "title": ""
    }
   },
   "outputs": [
    {
     "data": {
      "text/html": [
       "<style scoped>\n",
       "  .ansiout {\n",
       "    display: block;\n",
       "    unicode-bidi: embed;\n",
       "    white-space: pre-wrap;\n",
       "    word-wrap: break-word;\n",
       "    word-break: break-all;\n",
       "    font-family: \"Menlo\", \"Monaco\", \"Consolas\", \"Ubuntu Mono\", \"Source Code Pro\", monospace;\n",
       "    font-size: 13px;\n",
       "    color: #555;\n",
       "    margin-left: 4px;\n",
       "    line-height: 19px;\n",
       "  }\n",
       "</style>\n",
       "<div class=\"ansiout\">+---------+----------------------+\n",
       "join_year|number_of_users_joined|\n",
       "+---------+----------------------+\n",
       "     2015|                   213|\n",
       "     2016|                   230|\n",
       "     2017|                    81|\n",
       "+---------+----------------------+\n",
       "\n",
       "</div>"
      ]
     },
     "metadata": {
      "application/vnd.databricks.v1+output": {
       "addedWidgets": {},
       "arguments": {},
       "data": "<div class=\"ansiout\">+---------+----------------------+\n|join_year|number_of_users_joined|\n+---------+----------------------+\n|     2015|                   213|\n|     2016|                   230|\n|     2017|                    81|\n+---------+----------------------+\n\n</div>",
       "datasetInfos": [],
       "metadata": {},
       "removedWidgets": [],
       "type": "html"
      }
     },
     "output_type": "display_data"
    }
   ],
   "source": [
    "# Finds out how many users joined each year between 2015 and 2020\n",
    "(user_df.withColumn(\"join_year\", year(\"date_joined\"))\n",
    ".filter((col(\"join_year\") >= 2015) & (col(\"join_year\") <= 2020))\n",
    ".groupBy(\"join_year\")\n",
    ".agg(count(\"user_name\").alias(\"number_of_users_joined\"))\n",
    ".orderBy(\"join_year\")\n",
    ".show())\n"
   ]
  },
  {
   "cell_type": "markdown",
   "metadata": {
    "application/vnd.databricks.v1+cell": {
     "cellMetadata": {},
     "inputWidgets": {},
     "nuid": "0c7d732b-58d0-4e44-bcc4-1b2957aa1565",
     "showTitle": false,
     "title": ""
    }
   },
   "source": [
    "### Query 7 - Find the median follower count of users that joined between 2015 and 2020"
   ]
  },
  {
   "cell_type": "code",
   "execution_count": null,
   "metadata": {
    "application/vnd.databricks.v1+cell": {
     "cellMetadata": {},
     "inputWidgets": {},
     "nuid": "00649068-5752-477c-a23a-ffbb74643b54",
     "showTitle": false,
     "title": ""
    }
   },
   "outputs": [
    {
     "data": {
      "text/html": [
       "<style scoped>\n",
       "  .ansiout {\n",
       "    display: block;\n",
       "    unicode-bidi: embed;\n",
       "    white-space: pre-wrap;\n",
       "    word-wrap: break-word;\n",
       "    word-break: break-all;\n",
       "    font-family: \"Menlo\", \"Monaco\", \"Consolas\", \"Ubuntu Mono\", \"Source Code Pro\", monospace;\n",
       "    font-size: 13px;\n",
       "    color: #555;\n",
       "    margin-left: 4px;\n",
       "    line-height: 19px;\n",
       "  }\n",
       "</style>\n",
       "<div class=\"ansiout\">+---------+---------------------+\n",
       "join_year|median_follower_count|\n",
       "+---------+---------------------+\n",
       "     2015|               211000|\n",
       "     2016|                17000|\n",
       "     2017|                 5000|\n",
       "+---------+---------------------+\n",
       "\n",
       "</div>"
      ]
     },
     "metadata": {
      "application/vnd.databricks.v1+output": {
       "addedWidgets": {},
       "arguments": {},
       "data": "<div class=\"ansiout\">+---------+---------------------+\n|join_year|median_follower_count|\n+---------+---------------------+\n|     2015|               211000|\n|     2016|                17000|\n|     2017|                 5000|\n+---------+---------------------+\n\n</div>",
       "datasetInfos": [],
       "metadata": {},
       "removedWidgets": [],
       "type": "html"
      }
     },
     "output_type": "display_data"
    }
   ],
   "source": [
    "# Joins the user and pin dataframes\n",
    "pin_user_df = pin_df.join(user_df, pin_df[\"ind\"] == user_df[\"ind\"], how=\"inner\")\n",
    "\n",
    "# Finds the median follower count of users that joined between 2015 and 2020\n",
    "(pin_user_df.withColumn(\"join_year\", year(\"date_joined\"))\n",
    ".filter((col(\"join_year\") >= 2015) & (col(\"join_year\") <= 2020))\n",
    ".groupBy(\"join_year\")\n",
    ".agg(percentile_approx(\"follower_count\", 0.5).alias(\"median_follower_count\"))\n",
    ".orderBy(\"join_year\")\n",
    ".show())\n"
   ]
  },
  {
   "cell_type": "markdown",
   "metadata": {
    "application/vnd.databricks.v1+cell": {
     "cellMetadata": {},
     "inputWidgets": {},
     "nuid": "ab276113-72af-44ac-9ed2-e019dfa0f576",
     "showTitle": false,
     "title": ""
    }
   },
   "source": [
    "### Query 8 - Find the median follower count of users that joined between 2015 and 2020 in each age group"
   ]
  },
  {
   "cell_type": "code",
   "execution_count": null,
   "metadata": {
    "application/vnd.databricks.v1+cell": {
     "cellMetadata": {},
     "inputWidgets": {},
     "nuid": "af99e61b-cebd-45b9-8dc4-2177c384a26f",
     "showTitle": false,
     "title": ""
    }
   },
   "outputs": [
    {
     "data": {
      "text/html": [
       "<style scoped>\n",
       "  .ansiout {\n",
       "    display: block;\n",
       "    unicode-bidi: embed;\n",
       "    white-space: pre-wrap;\n",
       "    word-wrap: break-word;\n",
       "    word-break: break-all;\n",
       "    font-family: \"Menlo\", \"Monaco\", \"Consolas\", \"Ubuntu Mono\", \"Source Code Pro\", monospace;\n",
       "    font-size: 13px;\n",
       "    color: #555;\n",
       "    margin-left: 4px;\n",
       "    line-height: 19px;\n",
       "  }\n",
       "</style>\n",
       "<div class=\"ansiout\">+---------+---------+---------------------+\n",
       "age_group|join_year|median_follower_count|\n",
       "+---------+---------+---------------------+\n",
       "    18-24|     2015|               472000|\n",
       "    18-24|     2016|                19000|\n",
       "    18-24|     2017|                  476|\n",
       "    25-35|     2015|                33000|\n",
       "    25-35|     2016|                16000|\n",
       "    25-35|     2017|                 3000|\n",
       "    36-50|     2015|                24000|\n",
       "    36-50|     2016|                17000|\n",
       "    36-50|     2017|                 8000|\n",
       "      50+|     2015|                14000|\n",
       "      50+|     2016|                 3000|\n",
       "      50+|     2017|                10000|\n",
       "+---------+---------+---------------------+\n",
       "\n",
       "</div>"
      ]
     },
     "metadata": {
      "application/vnd.databricks.v1+output": {
       "addedWidgets": {},
       "arguments": {},
       "data": "<div class=\"ansiout\">+---------+---------+---------------------+\n|age_group|join_year|median_follower_count|\n+---------+---------+---------------------+\n|    18-24|     2015|               472000|\n|    18-24|     2016|                19000|\n|    18-24|     2017|                  476|\n|    25-35|     2015|                33000|\n|    25-35|     2016|                16000|\n|    25-35|     2017|                 3000|\n|    36-50|     2015|                24000|\n|    36-50|     2016|                17000|\n|    36-50|     2017|                 8000|\n|      50+|     2015|                14000|\n|      50+|     2016|                 3000|\n|      50+|     2017|                10000|\n+---------+---------+---------------------+\n\n</div>",
       "datasetInfos": [],
       "metadata": {},
       "removedWidgets": [],
       "type": "html"
      }
     },
     "output_type": "display_data"
    }
   ],
   "source": [
    "# Joins the user and pin dataframes\n",
    "pin_user_df = pin_df.join(user_df, pin_df[\"ind\"] == user_df[\"ind\"], how=\"inner\")\n",
    "\n",
    "# Creates the age_group column\n",
    "pin_user_df_with_age = pin_user_df.withColumn(\"age_group\",\n",
    "    when(col(\"age\").between(18, 24), \"18-24\")\n",
    "    .when(col(\"age\").between(25, 35), \"25-35\")\n",
    "    .when(col(\"age\").between(36, 50), \"36-50\")\n",
    "    .otherwise(\"50+\"))\n",
    "\n",
    "# Finds the median follower count of users that joined between 2015 and 2020 in each age group\n",
    "(pin_user_df_with_age.withColumn(\"join_year\", year(\"date_joined\"))\n",
    ".filter((col(\"join_year\") >= 2015) & (col(\"join_year\") <= 2020))\n",
    ".groupBy(\"age_group\", \"join_year\")\n",
    ".agg(percentile_approx(\"follower_count\", 0.5).alias(\"median_follower_count\"))\n",
    ".orderBy(\"age_group\", \"join_year\")\n",
    ".show())\n"
   ]
  }
 ],
 "metadata": {
  "application/vnd.databricks.v1+notebook": {
   "dashboards": [],
   "language": "python",
   "notebookMetadata": {
    "pythonIndentUnit": 4
   },
   "notebookName": "querying_batch_data",
   "widgets": {}
  },
  "language_info": {
   "name": "python"
  }
 },
 "nbformat": 4,
 "nbformat_minor": 0
}
