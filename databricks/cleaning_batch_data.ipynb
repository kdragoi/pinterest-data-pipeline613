{
 "cells": [
  {
   "cell_type": "markdown",
   "metadata": {
    "application/vnd.databricks.v1+cell": {
     "cellMetadata": {},
     "inputWidgets": {},
     "nuid": "3ef56cb1-d434-4b6a-830b-120f89dca617",
     "showTitle": false,
     "title": ""
    }
   },
   "source": [
    "## Cleaning the batch data dataframes"
   ]
  },
  {
   "cell_type": "markdown",
   "metadata": {
    "application/vnd.databricks.v1+cell": {
     "cellMetadata": {},
     "inputWidgets": {},
     "nuid": "9947acf1-5d27-4ebb-b940-cd2ccfe27905",
     "showTitle": false,
     "title": ""
    }
   },
   "source": [
    "The code in this notebook was originally used following the code in the notebook mount_s3_bucket.ipynb"
   ]
  },
  {
   "cell_type": "markdown",
   "metadata": {
    "application/vnd.databricks.v1+cell": {
     "cellMetadata": {},
     "inputWidgets": {},
     "nuid": "2d2a805e-398b-40b5-a61b-e8927d3938d6",
     "showTitle": false,
     "title": ""
    }
   },
   "source": [
    "### Cleaning pin dataframe"
   ]
  },
  {
   "cell_type": "code",
   "execution_count": 0,
   "metadata": {
    "application/vnd.databricks.v1+cell": {
     "cellMetadata": {},
     "inputWidgets": {},
     "nuid": "f14cd274-2926-4c3a-8608-44468a48a860",
     "showTitle": false,
     "title": ""
    }
   },
   "outputs": [
    {
     "output_type": "display_data",
     "data": {
      "text/html": [
       "<style scoped>\n",
       "  .ansiout {\n",
       "    display: block;\n",
       "    unicode-bidi: embed;\n",
       "    white-space: pre-wrap;\n",
       "    word-wrap: break-word;\n",
       "    word-break: break-all;\n",
       "    font-family: \"Menlo\", \"Monaco\", \"Consolas\", \"Ubuntu Mono\", \"Source Code Pro\", monospace;\n",
       "    font-size: 13px;\n",
       "    color: #555;\n",
       "    margin-left: 4px;\n",
       "    line-height: 19px;\n",
       "  }\n",
       "</style>\n",
       "<div class=\"ansiout\"></div>"
      ]
     },
     "metadata": {
      "application/vnd.databricks.v1+output": {
       "addedWidgets": {},
       "arguments": {},
       "data": "<div class=\"ansiout\"></div>",
       "datasetInfos": [],
       "metadata": {},
       "removedWidgets": [],
       "type": "html"
      }
     },
     "output_type": "display_data"
    }
   ],
   "source": [
    "pin_df = dirty_pin_df\n",
    "\n",
    "# Cleaning all the invalid data\n",
    "\n",
    "# Column names that contain invalid data\n",
    "columns_for_null = ['description', 'follower_count', 'image_src', 'poster_name', 'tag_list', 'title']\n",
    "\n",
    "# Dictionary of invalid data entries to change to null\n",
    "values_for_null = {\"No description available%\": None,\n",
    "                   \"User Info Error\": None,\n",
    "                   \"Image src error.\": None,\n",
    "                   \"N,o, ,T,a,g,s, ,A,v,a,i,l,a,b,l,e\": None,\n",
    "                   \"No Title Data Available\": None}\n",
    "\n",
    "# Loops through the relative columns and changes the data to None where the invalid values in the dictionary are present\n",
    "for column in columns_for_null:\n",
    "  pin_df = pin_df.replace(values_for_null, subset=[column])\n",
    "  "
   ]
  },
  {
   "cell_type": "code",
   "execution_count": 0,
   "metadata": {
    "application/vnd.databricks.v1+cell": {
     "cellMetadata": {},
     "inputWidgets": {},
     "nuid": "7c45edbb-4bdc-4563-b723-dad55d360e40",
     "showTitle": false,
     "title": ""
    }
   },
   "outputs": [],
   "source": [
    "# Converts follower_count to ensure every entry is a number\n",
    "pin_df = pin_df.withColumn(\"follower_count\", regexp_replace(\"follower_count\", \"k\", \"000\"))\n",
    "pin_df = pin_df.withColumn(\"follower_count\", regexp_replace(\"follower_count\", \"M\", \"000000\"))\n",
    "# Cast follower_count column to integer type\n",
    "pin_df = pin_df.withColumn(\"follower_count\", col(\"follower_count\").cast('int'))\n",
    "\n",
    "# Converts save_location column to include only the save location path\n",
    "pin_df = pin_df.withColumn(\"save_location\", regexp_replace(\"save_location\", \"Local save in \", \"\"))\n",
    "\n",
    "# Renames the index column to ind\n",
    "pin_df = pin_df.withColumnRenamed(\"index\", \"ind\")\n",
    "\n",
    "# Reorders columns\n",
    "pin_df = pin_df.select([ \"ind\",\n",
    "                        \"unique_id\",\n",
    "                        \"title\",\n",
    "                        \"description\",\n",
    "                        \"follower_count\",\n",
    "                        \"poster_name\",\n",
    "                        \"tag_list\",\n",
    "                        \"is_image_or_video\",\n",
    "                        \"image_src\",\n",
    "                        \"save_location\",\n",
    "                        \"category\"])\n",
    "\n",
    "display(pin_df)"
   ]
  },
  {
   "cell_type": "code",
   "execution_count": 0,
   "metadata": {
    "application/vnd.databricks.v1+cell": {
     "cellMetadata": {},
     "inputWidgets": {},
     "nuid": "0b834d02-b189-4c4f-8a19-5e251ac3c092",
     "showTitle": false,
     "title": ""
    }
   },
   "outputs": [
    {
     "output_type": "display_data",
     "data": {
      "text/html": [
       "<style scoped>\n",
       "  .ansiout {\n",
       "    display: block;\n",
       "    unicode-bidi: embed;\n",
       "    white-space: pre-wrap;\n",
       "    word-wrap: break-word;\n",
       "    word-break: break-all;\n",
       "    font-family: \"Menlo\", \"Monaco\", \"Consolas\", \"Ubuntu Mono\", \"Source Code Pro\", monospace;\n",
       "    font-size: 13px;\n",
       "    color: #555;\n",
       "    margin-left: 4px;\n",
       "    line-height: 19px;\n",
       "  }\n",
       "</style>\n",
       "<div class=\"ansiout\">root\n",
       "-- ind: long (nullable = true)\n",
       "-- unique_id: string (nullable = true)\n",
       "-- title: string (nullable = true)\n",
       "-- description: string (nullable = true)\n",
       "-- follower_count: integer (nullable = true)\n",
       "-- poster_name: string (nullable = true)\n",
       "-- tag_list: string (nullable = true)\n",
       "-- is_image_or_video: string (nullable = true)\n",
       "-- image_src: string (nullable = true)\n",
       "-- save_location: string (nullable = true)\n",
       "-- category: string (nullable = true)\n",
       "\n",
       "</div>"
      ]
     },
     "metadata": {
      "application/vnd.databricks.v1+output": {
       "addedWidgets": {},
       "arguments": {},
       "data": "<div class=\"ansiout\">root\n |-- ind: long (nullable = true)\n |-- unique_id: string (nullable = true)\n |-- title: string (nullable = true)\n |-- description: string (nullable = true)\n |-- follower_count: integer (nullable = true)\n |-- poster_name: string (nullable = true)\n |-- tag_list: string (nullable = true)\n |-- is_image_or_video: string (nullable = true)\n |-- image_src: string (nullable = true)\n |-- save_location: string (nullable = true)\n |-- category: string (nullable = true)\n\n</div>",
       "datasetInfos": [],
       "metadata": {},
       "removedWidgets": [],
       "type": "html"
      }
     },
     "output_type": "display_data"
    }
   ],
   "source": [
    "# Checks all the data types are correct via schema\n",
    "pin_df.printSchema()"
   ]
  },
  {
   "cell_type": "markdown",
   "metadata": {
    "application/vnd.databricks.v1+cell": {
     "cellMetadata": {},
     "inputWidgets": {},
     "nuid": "7be95ac4-9d42-45c1-bac5-8d7a06226e23",
     "showTitle": false,
     "title": ""
    }
   },
   "source": [
    "### Cleaning geo dataframe"
   ]
  },
  {
   "cell_type": "code",
   "execution_count": 0,
   "metadata": {
    "application/vnd.databricks.v1+cell": {
     "cellMetadata": {},
     "inputWidgets": {},
     "nuid": "85664fa3-a12c-46ff-ba12-acdd6ab8be6e",
     "showTitle": false,
     "title": ""
    }
   },
   "outputs": [],
   "source": [
    "geo_df = dirty_geo_df\n",
    "\n",
    "# Creates a new column 'coordinates' containing an array of latitude and longitude\n",
    "geo_df = geo_df.withColumn(\"coordinates\", array(col(\"latitude\"), col(\"longitude\")))\n",
    "\n",
    "# Drops the latitude and longitude columns\n",
    "geo_df = geo_df.drop(\"latitude\", \"longitude\")\n",
    "\n",
    "# Cast timestamp column to timestamp data type \n",
    "geo_df = geo_df.withColumn(\"timestamp\", geo_df[\"timestamp\"].cast(TimestampType()))\n",
    "\n",
    "# Reorders columns\n",
    "geo_df = geo_df.select([\"ind\",\n",
    "                        \"country\", \n",
    "                        \"coordinates\", \n",
    "                        \"timestamp\"])\n",
    "\n",
    "display(geo_df)"
   ]
  },
  {
   "cell_type": "code",
   "execution_count": 0,
   "metadata": {
    "application/vnd.databricks.v1+cell": {
     "cellMetadata": {},
     "inputWidgets": {},
     "nuid": "10fce9f2-4191-4246-a539-c673b7d71567",
     "showTitle": false,
     "title": ""
    }
   },
   "outputs": [
    {
     "output_type": "display_data",
     "data": {
      "text/html": [
       "<style scoped>\n",
       "  .ansiout {\n",
       "    display: block;\n",
       "    unicode-bidi: embed;\n",
       "    white-space: pre-wrap;\n",
       "    word-wrap: break-word;\n",
       "    word-break: break-all;\n",
       "    font-family: \"Menlo\", \"Monaco\", \"Consolas\", \"Ubuntu Mono\", \"Source Code Pro\", monospace;\n",
       "    font-size: 13px;\n",
       "    color: #555;\n",
       "    margin-left: 4px;\n",
       "    line-height: 19px;\n",
       "  }\n",
       "</style>\n",
       "<div class=\"ansiout\">root\n",
       "-- ind: long (nullable = true)\n",
       "-- country: string (nullable = true)\n",
       "-- coordinates: array (nullable = false)\n",
       "    |-- element: double (containsNull = true)\n",
       "-- timestamp: timestamp (nullable = true)\n",
       "\n",
       "</div>"
      ]
     },
     "metadata": {
      "application/vnd.databricks.v1+output": {
       "addedWidgets": {},
       "arguments": {},
       "data": "<div class=\"ansiout\">root\n |-- ind: long (nullable = true)\n |-- country: string (nullable = true)\n |-- coordinates: array (nullable = false)\n |    |-- element: double (containsNull = true)\n |-- timestamp: timestamp (nullable = true)\n\n</div>",
       "datasetInfos": [],
       "metadata": {},
       "removedWidgets": [],
       "type": "html"
      }
     },
     "output_type": "display_data"
    }
   ],
   "source": [
    "# Checks all the data types are correct via schema\n",
    "geo_df.printSchema()"
   ]
  },
  {
   "cell_type": "markdown",
   "metadata": {
    "application/vnd.databricks.v1+cell": {
     "cellMetadata": {},
     "inputWidgets": {},
     "nuid": "d475bd42-6e65-4f26-923f-27174386f22a",
     "showTitle": false,
     "title": ""
    }
   },
   "source": [
    "### Cleaning user dataframe"
   ]
  },
  {
   "cell_type": "code",
   "execution_count": 0,
   "metadata": {
    "application/vnd.databricks.v1+cell": {
     "cellMetadata": {},
     "inputWidgets": {},
     "nuid": "f3bbc176-da87-40b2-9d60-da4064d5ba1c",
     "showTitle": false,
     "title": ""
    }
   },
   "outputs": [],
   "source": [
    "user_df = dirty_user_df\n",
    "\n",
    "# Creates a new column 'user_name' by concatenating 'first_name' and 'last_name' with a space in between\n",
    "user_df = user_df.withColumn(\"user_name\", concat_ws(\" \", col(\"first_name\"), col(\"last_name\")))\n",
    "\n",
    "# Drops the 'first_name' and 'last_name' columns\n",
    "user_df = user_df.drop(\"first_name\", \"last_name\")\n",
    "\n",
    "# Cast date_joined column to timestamp data type \n",
    "user_df = user_df.withColumn(\"date_joined\", user_df[\"date_joined\"].cast(TimestampType()))\n",
    "\n",
    "# Reorders columns\n",
    "user_df = user_df.select([\"ind\",\n",
    "                          \"user_name\",\n",
    "                          \"age\",\n",
    "                          \"date_joined\"])\n",
    "\n",
    "display(user_df)\n",
    "     "
   ]
  },
  {
   "cell_type": "code",
   "execution_count": 0,
   "metadata": {
    "application/vnd.databricks.v1+cell": {
     "cellMetadata": {},
     "inputWidgets": {},
     "nuid": "29d23003-79e2-41f2-abfa-122230a79a7e",
     "showTitle": false,
     "title": ""
    }
   },
   "outputs": [
    {
     "output_type": "display_data",
     "data": {
      "text/html": [
       "<style scoped>\n",
       "  .ansiout {\n",
       "    display: block;\n",
       "    unicode-bidi: embed;\n",
       "    white-space: pre-wrap;\n",
       "    word-wrap: break-word;\n",
       "    word-break: break-all;\n",
       "    font-family: \"Menlo\", \"Monaco\", \"Consolas\", \"Ubuntu Mono\", \"Source Code Pro\", monospace;\n",
       "    font-size: 13px;\n",
       "    color: #555;\n",
       "    margin-left: 4px;\n",
       "    line-height: 19px;\n",
       "  }\n",
       "</style>\n",
       "<div class=\"ansiout\">root\n",
       "-- ind: long (nullable = true)\n",
       "-- user_name: string (nullable = false)\n",
       "-- age: long (nullable = true)\n",
       "-- date_joined: timestamp (nullable = true)\n",
       "\n",
       "</div>"
      ]
     },
     "metadata": {
      "application/vnd.databricks.v1+output": {
       "addedWidgets": {},
       "arguments": {},
       "data": "<div class=\"ansiout\">root\n |-- ind: long (nullable = true)\n |-- user_name: string (nullable = false)\n |-- age: long (nullable = true)\n |-- date_joined: timestamp (nullable = true)\n\n</div>",
       "datasetInfos": [],
       "metadata": {},
       "removedWidgets": [],
       "type": "html"
      }
     },
     "output_type": "display_data"
    }
   ],
   "source": [
    "# Checks all the data types are correct via schema\n",
    "user_df.printSchema()"
   ]
  }
 ],
 "metadata": {
  "application/vnd.databricks.v1+notebook": {
   "dashboards": [],
   "language": "python",
   "notebookMetadata": {
    "pythonIndentUnit": 4
   },
   "notebookName": "cleaning_batch_data",
   "widgets": {}
  }
 },
 "nbformat": 4,
 "nbformat_minor": 0
}
